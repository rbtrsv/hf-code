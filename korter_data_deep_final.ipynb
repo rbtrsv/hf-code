{
 "cells": [
  {
   "cell_type": "markdown",
   "metadata": {},
   "source": [
    "#### Korter Data Scrappinig"
   ]
  },
  {
   "cell_type": "code",
   "execution_count": 1,
   "metadata": {},
   "outputs": [],
   "source": [
    "import pandas as pd\n",
    "import numpy as np\n",
    "\n",
    "# https://developer.apple.com/documentation/webkit/testing_with_webdriver_in_safari\n",
    "# from selenium.webdriver.common.by import By\n",
    "# from selenium.webdriver.common.keys import Keys\n",
    "# from selenium.webdriver.support.ui import Select\n",
    "# from selenium.webdriver.support.ui import WebDriverWait\n",
    "# from selenium import webdriver\n",
    "\n",
    "from bs4 import BeautifulSoup\n",
    "\n",
    "import requests\n",
    "import unittest\n",
    "import time\n",
    "import datetime\n",
    "import re\n",
    "import datetime"
   ]
  },
  {
   "cell_type": "code",
   "execution_count": 3,
   "metadata": {},
   "outputs": [
    {
     "ename": "AttributeError",
     "evalue": "'NoneType' object has no attribute 'children'",
     "output_type": "error",
     "traceback": [
      "\u001b[0;31m---------------------------------------------------------------------------\u001b[0m",
      "\u001b[0;31mAttributeError\u001b[0m                            Traceback (most recent call last)",
      "\u001b[0;32m<ipython-input-3-bbdff346d036>\u001b[0m in \u001b[0;36m<module>\u001b[0;34m\u001b[0m\n\u001b[1;32m     17\u001b[0m     \u001b[0;31m# print(check.prettify())\u001b[0m\u001b[0;34m\u001b[0m\u001b[0;34m\u001b[0m\u001b[0;34m\u001b[0m\u001b[0m\n\u001b[1;32m     18\u001b[0m     \u001b[0;31m# [type(item) for item in list(check.children)]\u001b[0m\u001b[0;34m\u001b[0m\u001b[0;34m\u001b[0m\u001b[0;34m\u001b[0m\u001b[0m\n\u001b[0;32m---> 19\u001b[0;31m     \u001b[0mnumber\u001b[0m \u001b[0;34m=\u001b[0m \u001b[0mlist\u001b[0m\u001b[0;34m(\u001b[0m\u001b[0mcheck\u001b[0m\u001b[0;34m.\u001b[0m\u001b[0mchildren\u001b[0m\u001b[0;34m)\u001b[0m\u001b[0;34m[\u001b[0m\u001b[0;36m2\u001b[0m\u001b[0;34m]\u001b[0m\u001b[0;34m\u001b[0m\u001b[0;34m\u001b[0m\u001b[0m\n\u001b[0m\u001b[1;32m     20\u001b[0m     \u001b[0mnumber\u001b[0m \u001b[0;34m=\u001b[0m \u001b[0mint\u001b[0m\u001b[0;34m(\u001b[0m\u001b[0mnumber\u001b[0m\u001b[0;34m)\u001b[0m\u001b[0;34m\u001b[0m\u001b[0;34m\u001b[0m\u001b[0m\n\u001b[1;32m     21\u001b[0m     \u001b[0mnumber\u001b[0m \u001b[0;34m=\u001b[0m \u001b[0mnumber\u001b[0m \u001b[0;34m/\u001b[0m \u001b[0;36m20\u001b[0m\u001b[0;34m\u001b[0m\u001b[0;34m\u001b[0m\u001b[0m\n",
      "\u001b[0;31mAttributeError\u001b[0m: 'NoneType' object has no attribute 'children'"
     ]
    }
   ],
   "source": [
    "x = datetime.datetime.now()\n",
    "\n",
    "# CHANGE\n",
    "# city = str(input(\"Type the name of the city: \"))\n",
    "# cities = [\"Bucuresti\", \"Cluj\", \"Timisoara\", \"Iasi\", \"Constanta\", \"Craiova\", \"Brașov\", \"Galați\", \"Ploiești\"]\n",
    "# cities = [\"Bucuresti\", \"Cluj\", \"Timisoara\", \"Iasi\", \"Constanta\"]\n",
    "cities = [\"Craiova\", \"Brașov\", \"Galați\", \"Ploiești\", \"Oradea\", \"Brăila\", \"Arad\", \"Pitești\", \"Sibiu\", \"Bacău\"]\n",
    "\n",
    "column_names = [\"name\", \"address\", \"developer\", \"city\", \"date\", \"href\", \"main_price_from\"]\n",
    "residential = pd.DataFrame(columns = column_names)\n",
    "\n",
    "for city in cities:\n",
    "    url = \"https://korter.ro/ansambluri-rezidentiale-in-\" + city\n",
    "    page = requests.get(url)\n",
    "    soup = BeautifulSoup(page.content, 'html.parser')\n",
    "    check = soup.find(class_=\"ListingHeader__StyledComment-sc-6vo33j-2\")\n",
    "    # print(check.prettify())\n",
    "    # [type(item) for item in list(check.children)]\n",
    "    number = list(check.children)[2]\n",
    "    number = int(number) \n",
    "    number = number / 20\n",
    "    number_pages = int(number) + 2\n",
    "    \n",
    "    # for pg in range(1, number):\n",
    "    for pg in range(1, number_pages):\n",
    "        page_num = str(pg)\n",
    "        url = \"https://korter.ro/ansambluri-rezidentiale-in-\" + city + \"?page=\" + page_num\n",
    "        # page = driver.get(url)\n",
    "        # soup = BeautifulSoup(driver.page_source, 'html.parser')\n",
    "        page = requests.get(url)\n",
    "        soup = BeautifulSoup(page.content, 'html.parser')\n",
    "        # print(soup.prettify())\n",
    "\n",
    "        buildinigs_stream = soup.find(class_=\"BuildingsStream__StyledCardsWrapper-sc-1umumy-1\")\n",
    "        \n",
    "        building_name = []\n",
    "        building_name_tags = buildinigs_stream.select(\".buildingCard__StyledWrapper-sc-1t8cw05-2 .buildingCard__StyledBuildingName-sc-1t8cw05-5\")\n",
    "        building_name_e = [bnt.get_text() for bnt in building_name_tags]\n",
    "        building_name.extend(building_name_e)\n",
    "\n",
    "        address = []\n",
    "        address_tags = buildinigs_stream.select(\".buildingCard__StyledWrapper-sc-1t8cw05-2 .buildingCard__StyledBuildingLocation-sc-1t8cw05-6\")\n",
    "        address_e = [at.get_text() for at in address_tags]\n",
    "        address.extend(address_e)\n",
    "    \n",
    "        price = []\n",
    "        price_tags = buildinigs_stream.select(\".buildingCard__StyledWrapper-sc-1t8cw05-2 .Price__StyledBasePrice-sc-1ayg5nr-2\")\n",
    "        price_e = [pt.get_text() for pt in price_tags]\n",
    "        price.extend(price_e)\n",
    "\n",
    "        developer = []\n",
    "        developer_tags = buildinigs_stream.select(\".buildingCard__StyledWrapper-sc-1t8cw05-2 .buildingCard__StyledDeveloperName-sc-1t8cw05-10\")\n",
    "        developer_e = [dt.get_text() for dt in developer_tags]\n",
    "        developer.extend(developer_e)\n",
    "\n",
    "        # website = []\n",
    "        # website_tags = buildinigs_stream.select(\".buildingCard__StyledWrapper-sc-1t8cw05-2 .buildingCard__StyledBuildingSiteBlock-sc-1t8cw05-12\")\n",
    "        # website_e = [wt.get_text() for wt in website_tags]\n",
    "        # website.extend(website_e)\n",
    "        \n",
    "        # buildinigs_stream_b = soup.find(class_=\"buildingCard__StyledWrapper-sc-1t8cw05-2 iPKkAv\")\n",
    "        href = []\n",
    "        href_tags = buildinigs_stream.find_all('a', class_=\"Link__StyledLink-sc-1qa6dyr-0 givVbJ buildingCard__StyledMainLink-sc-1t8cw05-0 fjVoPz\")\n",
    "        href_e = [ht.get('href') for ht in href_tags]\n",
    "        href.extend(href_e)   \n",
    "        \n",
    "        residential_city = pd.DataFrame({\n",
    "            \"name\": building_name,\n",
    "            \"address\": address,\n",
    "            \"developer\": developer,\n",
    "            \"city\": city,\n",
    "            \"date\": str(x.strftime(\"%x\")),\n",
    "            \"href\": href,\n",
    "            \"main_price_from\": price,\n",
    "        })\n",
    "\n",
    "        # residential_city['website'] = residential_city['website'].replace(\"pagina obiect\", np.nan)\n",
    "        residential = residential.append(residential_city, ignore_index = True)\n",
    "\n",
    "residential"
   ]
  },
  {
   "cell_type": "code",
   "execution_count": null,
   "metadata": {},
   "outputs": [],
   "source": [
    "# href2 is used in the blocks below as well\n",
    "href2 = residential[\"href\"].tolist()\n",
    "\n",
    "# To check\n",
    "# href2 = href2[12:30]\n",
    "\n",
    "column_names = [\"unedited\", \"type\", \"href\"]\n",
    "sketches_prices = pd.DataFrame(columns = column_names)\n",
    "\n",
    "for resi in href2:\n",
    "    url_resi = \"https://korter.ro\" + resi\n",
    "    page_resi = requests.get(url_resi)\n",
    "    soup_resi = BeautifulSoup(page_resi.content, 'html.parser')\n",
    "    \n",
    "    sket_pr_resi_type = []\n",
    "    sket_pr_resi_type_tags = soup_resi.find_all(class_=\"UnitTypeRow__StyledUnitType-wfbjku-1 bjEpwX\")\n",
    "    sket_pr_resi_type_tags_e = [sprt.get_text() for sprt in sket_pr_resi_type_tags]\n",
    "    sket_pr_resi_type.extend(sket_pr_resi_type_tags_e)\n",
    "    sket_pr_resi_type\n",
    "\n",
    "    sket_pr_resi_surface = []\n",
    "    sket_pr_resi_surface_tags = soup_resi.find_all(class_=\"UnitTypeRow__StyledPriceArea-wfbjku-3 bJnUHx\")\n",
    "    sket_pr_resi_surface_tags_e = [sprt.get_text(\"|\", strip=True) for sprt in sket_pr_resi_surface_tags]\n",
    "    sket_pr_resi_surface.extend(sket_pr_resi_surface_tags_e)\n",
    "    sket_pr_resi_surface\n",
    "    \n",
    "    sket_pr_resi_surface_df = pd.DataFrame({\n",
    "        \"unedited\": sket_pr_resi_surface,\n",
    "        \"type\": sket_pr_resi_type,\n",
    "        \"href\": url_resi,\n",
    "    })\n",
    "    \n",
    "    sketches_prices = sketches_prices.append(sket_pr_resi_surface_df, ignore_index = True)\n",
    "\n",
    "sketches_prices.unedited = sketches_prices.unedited.str.replace('|', '')\n",
    "sketches_prices.unedited = sketches_prices.unedited.str.replace('prețul se clarifică', 'de laprețul se clarifică')\n",
    "sketches_prices.unedited = sketches_prices.unedited.str.replace('m2', '', 1)\n",
    "sketches_prices[['area_from','price_m2_from','total_price_from']] = sketches_prices.unedited.apply( \n",
    "   lambda x: pd.Series(str(x).split(\"de la\", 2)))\n",
    "sketches_prices.price_m2_from = sketches_prices.price_m2_from.str.replace('pentru m2', '', 1)\n",
    "sketches_prices.href = sketches_prices.href.str.replace('https://korter.ro', '', 1)\n",
    "sketches_prices = sketches_prices.drop(['unedited'], axis=1)\n",
    "sketches_prices.rename(columns={'href':'href2'}, inplace=True)\n",
    "sketches_prices"
   ]
  },
  {
   "cell_type": "code",
   "execution_count": null,
   "metadata": {},
   "outputs": [],
   "source": [
    "column_names = [\"sketches_column\", \"href\"]\n",
    "sketches_all = pd.DataFrame(columns = column_names)\n",
    "\n",
    "for resi in href2:\n",
    "    url_resi = \"https://korter.ro\" + resi + \"/schițele\"\n",
    "    page_resi = requests.get(url_resi)\n",
    "    sketches_resi = BeautifulSoup(page_resi.content, 'html.parser')\n",
    "\n",
    "    sketches = []\n",
    "    sketches_tags = sketches_resi.find_all(class_=\"LayoutCard__StyledWrapper-sc-1j6xc9t-1 kvPUf\")\n",
    "    sketches_tags_e = [st.get_text(\"|\", strip=True) for st in sketches_tags]\n",
    "    sketches.extend(sketches_tags_e)\n",
    "    sketches\n",
    "    \n",
    "    sketches_df = pd.DataFrame({\n",
    "        \"sketches_column\": sketches,\n",
    "        \"href\": url_resi,\n",
    "    })\n",
    "    \n",
    "    sketches_all = sketches_all.append(sketches_df, ignore_index = True)\n",
    "    \n",
    "sketches_all[['del1','total_price','del2','total_space']] = sketches_all.sketches_column.apply(\n",
    "    lambda x: pd.Series(str(x).split(\"|\", 3)))\n",
    "sketches_all.total_space = sketches_all.total_space.str.replace('|', '')\n",
    "sketches_all.total_space = sketches_all.total_space.str.replace('m2', '')\n",
    "sketches_all = sketches_all.drop(['sketches_column', 'del1', 'del2'], axis=1)\n",
    "sketches_all.href = sketches_all.href.str.replace('https://korter.ro', '', 1)\n",
    "sketches_all.href = sketches_all.href.str.replace('/schițele', '', 1)\n",
    "sketches_all.rename(columns={'href':'href2'}, inplace=True)\n",
    "sketches_all"
   ]
  },
  {
   "cell_type": "code",
   "execution_count": null,
   "metadata": {},
   "outputs": [],
   "source": [
    "column_names = [\"characteristic\", \"explanation\", \"href2\"]\n",
    "charactersitics_all = pd.DataFrame(columns = column_names)\n",
    "\n",
    "for resi in href2:\n",
    "    url_resi = \"https://korter.ro\" + resi\n",
    "    page_resi = requests.get(url_resi)\n",
    "    soup_resi = BeautifulSoup(page_resi.content, 'html.parser')\n",
    "    table_resi = soup_resi.find(class_=\"PrimaryTableAttributesBlock__StyledAttributesTable-sc-1gdjixd-0 dRvDKU\")\n",
    "    web_resi = soup_resi.find(class_=\"Link__StyledLink-sc-1qa6dyr-0 fvupyZ\")\n",
    "    \n",
    "    tds_resi_charactersitics = []\n",
    "    tds_resi_charactersitics_tags = table_resi.find_all(\"td\", class_=\"TableAttribute__StyledKey-xbfqge-1\")\n",
    "    tds_resi_charactersitics_tags_e = [tds.get_text() for tds in tds_resi_charactersitics_tags]\n",
    "    tds_resi_charactersitics.extend(tds_resi_charactersitics_tags_e)\n",
    "    tds_resi_charactersitics\n",
    "    \n",
    "    tds_resi_charactersitics_expl = []\n",
    "    tds_resi_charactersitics_expl_tags = table_resi.find_all(\"td\", class_=False)\n",
    "    tds_resi_charactersitics_expl_tags_e = [tds.get_text() for tds in tds_resi_charactersitics_expl_tags]\n",
    "    tds_resi_charactersitics_expl.extend(tds_resi_charactersitics_expl_tags_e)\n",
    "    tds_resi_charactersitics_expl\n",
    "    \n",
    "    charactersitics = pd.DataFrame({\n",
    "        \"characteristic\": tds_resi_charactersitics,\n",
    "        \"explanation\": tds_resi_charactersitics_expl,\n",
    "        \"href2\": url_resi,\n",
    "    })\n",
    "    \n",
    "    charactersitics_all = charactersitics_all.append(charactersitics)\n",
    "\n",
    "charactersitics_all.href2 = charactersitics_all.href2.str.replace('https://korter.ro', '', 1)\n",
    "charactersitics_all"
   ]
  },
  {
   "cell_type": "code",
   "execution_count": null,
   "metadata": {},
   "outputs": [],
   "source": [
    "href2 = residential[\"href\"].tolist()\n",
    "\n",
    "# To check\n",
    "# href2 = href2[12:30]\n",
    "\n",
    "column_names = [\"website_link\", \"href2\"]\n",
    "website_all = pd.DataFrame(columns = column_names)\n",
    "\n",
    "for resi in href2:   \n",
    "    url_resi = \"https://korter.ro\" + resi\n",
    "    page_resi = requests.get(url_resi)\n",
    "    soup_resi = BeautifulSoup(page_resi.content, 'html.parser')\n",
    "    external_links_resi = soup_resi.find_all(class_=\"ExternalLinks__StyledWrapper-sc-6pqnoc-1 eSjnUu\")\n",
    "    \n",
    "    website_link = []\n",
    "    website_e = [elr.get_text(\"|\", strip=True) for elr in external_links_resi]\n",
    "    website_link.extend(website_e)\n",
    "\n",
    "    websites = pd.DataFrame({\n",
    "        \"website_link\": website_link,\n",
    "        \"href2\": url_resi,\n",
    "    })\n",
    "    \n",
    "    website_all = website_all.append(websites)\n",
    "\n",
    "website_all.href2 = website_all.href2.str.replace('https://korter.ro', '', 1)\n",
    "website_all[['del1','website','del2']] = website_all.website_link.apply(\n",
    "    lambda x: pd.Series(str(x).split(\"|\", 2)))\n",
    "website_all = website_all.drop(['website_link', 'del1', 'del2'], axis=1)\n",
    "website_all"
   ]
  },
  {
   "cell_type": "code",
   "execution_count": null,
   "metadata": {},
   "outputs": [],
   "source": [
    "# MERGING IT ALL"
   ]
  },
  {
   "cell_type": "code",
   "execution_count": null,
   "metadata": {},
   "outputs": [],
   "source": [
    "charactersitics_allz = charactersitics_all.copy()\n",
    "# https://pandas.pydata.org/pandas-docs/stable/user_guide/reshaping.html\n",
    "charactersitics_allz = charactersitics_allz.pivot_table(index=\"href2\", columns=\"characteristic\", values=\"explanation\", aggfunc='first')\n",
    "charactersitics_allz.reset_index(inplace = True) \n",
    "\n",
    "# https://focaalvarez.medium.com/vlookup-and-index-match-equivalences-in-pandas-160ac2910399\n",
    "residential.rename(columns={'href':'href2'}, inplace=True)\n",
    "table_all_characteristics = residential.merge(charactersitics_allz,how='left',on='href2')\n",
    "table_all_characteristics"
   ]
  },
  {
   "cell_type": "code",
   "execution_count": null,
   "metadata": {},
   "outputs": [],
   "source": [
    "sketches_prices_2 = sketches_prices.pivot_table(index=\"href2\", columns=\"type\", values=\"price_m2_from\", aggfunc='first')\n",
    "sketches_prices_2.reset_index(inplace = True)\n",
    "\n",
    "# sketches_prices_2 = sketches_prices.add_suffix('_price_m2_from')\n",
    "# col_dict = {'type_price_m2_from': 'type', 'href2_price_m2_from': 'href2'} ## key→old name, value→new name\n",
    "# sketches_prices_2.columns = [col_dict.get(x, x) for x in sketches_prices_2.columns]\n",
    "sketches_prices_2"
   ]
  },
  {
   "cell_type": "code",
   "execution_count": null,
   "metadata": {},
   "outputs": [],
   "source": [
    "table_all_char_sketpri = table_all_characteristics.merge(sketches_prices_2, how=\"left\", on=\"href2\")\n",
    "table_all_char_sketpri"
   ]
  },
  {
   "cell_type": "code",
   "execution_count": null,
   "metadata": {},
   "outputs": [],
   "source": [
    "# Use str.extract and pass a regex pattern to extract just the numeric parts\n",
    "# sketches_all_2.total_price = sketches_all_2.total_price.str.extract('(\\d+)', expand=False)\n",
    "# sketches_all_2.total_space = sketches_all_2.total_space.str.encode(\"ascii\", \"ignore\")\n",
    "# sketches_all_2.total_space = sketches_all_2.total_space.astype(int)\n",
    "\n",
    "sketches_all_2 = sketches_all.copy()\n",
    "sketches_all_2.total_price = sketches_all_2.total_price.str.replace('€', '')\n",
    "sketches_all_2.total_price = sketches_all_2.total_price.str.replace('[+TVA]', '')\n",
    "sketches_all_2.total_price = sketches_all_2.total_price.str.replace(r\"[a-zA-Z]\",'')\n",
    "sketches_all_2.total_price = sketches_all_2.total_price.str.replace(\"[ț ţ ă â]\", '')\n",
    "sketches_all_2.total_space = sketches_all_2.total_space.str.replace(r\"[a-zA-Z]\",'')\n",
    "sketches_all_2.total_space = sketches_all_2.total_space.str.replace(\"[ț ţ â ă]\", '')\n",
    "\n",
    "# https://stackoverflow.com/questions/15891038/change-column-type-in-pandas\n",
    "# df[\"a\"] = pd.to_numeric(df[\"a\"])\n",
    "sketches_all_2.total_space = pd.to_numeric(sketches_all_2.total_space)\n",
    "sketches_all_2.total_price = pd.to_numeric(sketches_all_2.total_price)\n",
    "sketches_all_2.dtypes\n",
    "\n",
    "sketches_all_2['mean_price'] = sketches_all_2['total_price'] / sketches_all_2['total_space']\n",
    "sketches_all_2\n",
    "\n",
    "sketches_all_3 = sketches_all_2.groupby('href2')['mean_price'].mean()\n",
    "sketches_all_3\n",
    "\n",
    "sketches_all_4 = pd.DataFrame(data=sketches_all_3)\n",
    "sketches_all_4"
   ]
  },
  {
   "cell_type": "code",
   "execution_count": null,
   "metadata": {},
   "outputs": [],
   "source": [
    "sketches_all_5 = sketches_all.copy()\n",
    "sketches_all_5.total_price = sketches_all_5.total_price.str.replace('€', '')\n",
    "sketches_all_5.total_price = sketches_all_5.total_price.str.replace('[+TVA]', '')\n",
    "sketches_all_5.total_price = sketches_all_5.total_price.str.replace(r\"[a-zA-Z]\",'')\n",
    "sketches_all_5.total_price = sketches_all_5.total_price.str.replace(\"[ț ţ ă â]\", '')\n",
    "sketches_all_5.total_space = sketches_all_5.total_space.str.replace(r\"[a-zA-Z]\",'')\n",
    "sketches_all_5.total_space = sketches_all_5.total_space.str.replace(\"[ț ţ â ă]\", '')\n",
    "\n",
    "sketches_all_5.total_space = pd.to_numeric(sketches_all_5.total_space)\n",
    "sketches_all_5.total_price = pd.to_numeric(sketches_all_5.total_price)\n",
    "sketches_all_5.dtypes\n",
    "\n",
    "sketches_all_6 = sketches_all_5.groupby('href2')['total_space'].sum()\n",
    "sketches_all_6\n",
    "\n",
    "sketches_all_7 = pd.DataFrame(data=sketches_all_6)\n",
    "sketches_all_7"
   ]
  },
  {
   "cell_type": "code",
   "execution_count": null,
   "metadata": {},
   "outputs": [],
   "source": [
    "table_all_char_sketpri_meanpr = table_all_char_sketpri.merge(sketches_all_4, how=\"left\", on=\"href2\")\n",
    "table_all_char_sketpri_meanpr_tspace = table_all_char_sketpri_meanpr.merge(sketches_all_7, how=\"left\", on=\"href2\")\n",
    "table_all_char_sketpri_meanpr_tspace"
   ]
  },
  {
   "cell_type": "code",
   "execution_count": null,
   "metadata": {},
   "outputs": [],
   "source": [
    "table_all_char_sketpri_meanpr_tspace_w = table_all_char_sketpri_meanpr_tspace.merge(website_all, how=\"left\", on=\"href2\")\n",
    "table_all_char_sketpri_meanpr_tspace_w"
   ]
  },
  {
   "cell_type": "code",
   "execution_count": null,
   "metadata": {},
   "outputs": [],
   "source": [
    "col_dict = {'name': 'Nume',\n",
    "            'address': 'Adresa',\n",
    "            'developer': 'Dezvoltator',\n",
    "            'city': 'Oras',\n",
    "            'date': 'Data',\n",
    "            'href2': 'Href',\n",
    "            'main_price_from': 'Pret minim',\n",
    "            'mean_price': 'Pret mediu',\n",
    "            'total_space': 'Spatiu total m2',\n",
    "            'website': 'Website'}   ## key→old name, value→new name\n",
    "\n",
    "table_all_char_sketpri_meanpr_tspace_w.columns = [col_dict.get(x, x) for x in table_all_char_sketpri_meanpr_tspace_w.columns]\n",
    "table_all_char_sketpri_meanpr_tspace_w"
   ]
  },
  {
   "cell_type": "code",
   "execution_count": null,
   "metadata": {},
   "outputs": [],
   "source": [
    "pd.options.display.float_format = '{:,.2f}'.format\n",
    "cols_to_order = ['Nume', 'Adresa', 'Dezvoltator', 'Oras', 'Website', 'Href', 'Pret minim', 'Pret mediu', 'Spatiu total m2']\n",
    "new_columns = cols_to_order + (table_all_char_sketpri_meanpr_tspace_w.columns.drop(cols_to_order).tolist())\n",
    "table_all_char_sketpri_meanpr_tspace_w = table_all_char_sketpri_meanpr_tspace_w[new_columns]\n",
    "table_all_char_sketpri_meanpr_tspace_w"
   ]
  },
  {
   "cell_type": "code",
   "execution_count": null,
   "metadata": {},
   "outputs": [],
   "source": [
    "# Export\n",
    "table_all_char_sketpri_meanpr_tspace_w.to_excel(\"/Users/robert.radoslav/desktop/residential_final.xlsx\", sheet_name=\"All cities\")\n",
    "\n",
    "# Colab export alternative\n",
    "# from google.colab import files\n",
    "# residential.to_excel('residential.xlsx') \n",
    "# files.download('residential.xlsx')"
   ]
  },
  {
   "cell_type": "markdown",
   "metadata": {},
   "source": [
    "##### Old Code"
   ]
  },
  {
   "cell_type": "raw",
   "metadata": {},
   "source": [
    "# driver = webdriver.Safari()\n",
    "building_name = []\n",
    "address = []\n",
    "price = []\n",
    "developer = []\n",
    "website = []\n",
    "href = []\n",
    "\n",
    "x = datetime.datetime.now()\n",
    "\n",
    "# city = str(input(\"Type the name of the city: \"))\n",
    "city = \"iași\"\n",
    "url = \"https://korter.ro/ansambluri-rezidentiale-in-\" + city\n",
    "page = requests.get(url)\n",
    "soup = BeautifulSoup(page.content, 'html.parser')\n",
    "check = soup.find(class_=\"ListingHeader__StyledComment-sc-6vo33j-2\")\n",
    "# print(check.prettify())\n",
    "[type(item) for item in list(check.children)]\n",
    "number = list(check.children)[2]\n",
    "number = int(number) \n",
    "number = number / 20\n",
    "number_pages = int(number) + 2\n",
    "\n",
    "# for pg in range(1, number):\n",
    "for pg in range(1, number_pages):\n",
    "    page_num = str(pg)\n",
    "    url = \"https://korter.ro/ansambluri-rezidentiale-in-\" + city + \"?page=\" + page_num\n",
    "    # page = driver.get(url)\n",
    "    # soup = BeautifulSoup(driver.page_source, 'html.parser')\n",
    "    page = requests.get(url)\n",
    "    soup = BeautifulSoup(page.content, 'html.parser')\n",
    "    # print(soup.prettify())\n",
    "    \n",
    "    buildinigs_stream = soup.find(class_=\"BuildingsStream__StyledCardsWrapper-sc-1umumy-1\")\n",
    "    # print(buildinigs_stream.prettify())\n",
    "    \n",
    "    building_name_tags = buildinigs_stream.select(\".buildingCard__StyledWrapper-sc-1t8cw05-2 .buildingCard__StyledBuildingName-sc-1t8cw05-5\")\n",
    "    building_name_e = [bnt.get_text() for bnt in building_name_tags]\n",
    "    building_name.extend(building_name_e)\n",
    "    \n",
    "    address_tags = buildinigs_stream.select(\".buildingCard__StyledWrapper-sc-1t8cw05-2 .buildingCard__StyledBuildingLocation-sc-1t8cw05-6\")\n",
    "    address_e = [at.get_text() for at in address_tags]\n",
    "    address.extend(address_e)\n",
    "    \n",
    "    price_tags = buildinigs_stream.select(\".buildingCard__StyledWrapper-sc-1t8cw05-2 .Price__StyledBasePrice-sc-1ayg5nr-2\")\n",
    "    price_e = [pt.get_text() for pt in price_tags]\n",
    "    price.extend(price_e)\n",
    "    \n",
    "    developer_tags = buildinigs_stream.select(\".buildingCard__StyledWrapper-sc-1t8cw05-2 .buildingCard__StyledDeveloperName-sc-1t8cw05-10\")\n",
    "    developer_e = [dt.get_text() for dt in developer_tags]\n",
    "    developer.extend(developer_e)\n",
    "    \n",
    "    # website_tags = buildinigs_stream.select(\".buildingCard__StyledWrapper-sc-1t8cw05-2 .buildingCard__StyledBuildingSiteBlock-sc-1t8cw05-12\")\n",
    "    # website_e = [wt.get_text() for wt in website_tags]\n",
    "    # website.extend(website_e)\n",
    "    \n",
    "    # buildinigs_stream_b = soup.find(class_=\"buildingCard__StyledWrapper-sc-1t8cw05-2 iPKkAv\")\n",
    "    href_tags = buildinigs_stream.find_all('a', class_=\"Link__StyledLink-sc-1qa6dyr-0 givVbJ buildingCard__StyledMainLink-sc-1t8cw05-0 fjVoPz\")\n",
    "    href_e = [ht.get('href') for ht in href_tags]\n",
    "    href.extend(href_e)   "
   ]
  },
  {
   "cell_type": "raw",
   "metadata": {},
   "source": [
    "list_a = [building_name, address, price, developer, href]\n",
    "for el in list_a:\n",
    "    print(len(el))"
   ]
  },
  {
   "cell_type": "raw",
   "metadata": {},
   "source": [
    "residential = pd.DataFrame({\n",
    "    \"name\": building_name,\n",
    "    \"address\": address,\n",
    "    \"price\": price,\n",
    "    \"developer\": developer,\n",
    "    \"date\": str(x.strftime(\"%x\")),\n",
    "    \"href\": href,\n",
    "})\n",
    "residential\n",
    "\n",
    "# To replace a values in a column based on a condition, using numpy.where, use the following syntax.\n",
    "# DataFrame['column_name'] = numpy.where(condition, new_value, DataFrame.column_name)\n",
    "\n",
    "# residential['website'] = residential['website'].replace(\"pagina obiect\", np.nan)\n",
    "# residential.head(200)"
   ]
  },
  {
   "cell_type": "raw",
   "metadata": {},
   "source": [
    "for resi in href:\n",
    "    url_resi = \"https://korter.ro\" + resi\n",
    "    page_resi = requests.get(url_resi)\n",
    "    soup_resi = BeautifulSoup(page_resi.content, 'html.parser')\n",
    "    table_resi = soup_resi.find(class_=\"PrimaryTableAttributesBlock__StyledAttributesTable-sc-1gdjixd-0 dRvDKU\")"
   ]
  },
  {
   "cell_type": "raw",
   "metadata": {
    "jupyter": {
     "outputs_hidden": true
    }
   },
   "source": [
    "url_resi = \"https://korter.ro/arka-residence-ia-i\"\n",
    "page_resi = requests.get(url_resi)\n",
    "soup_resi = BeautifulSoup(page_resi.content, 'html.parser')\n",
    "table_resi = soup_resi.find(class_=\"PrimaryTableAttributesBlock__StyledAttributesTable-sc-1gdjixd-0 dRvDKU\")\n",
    "print(table_resi.prettify())\n",
    "# list(table_resi.children)"
   ]
  },
  {
   "cell_type": "raw",
   "metadata": {},
   "source": [
    "tds_resi_charactersitics = []\n",
    "tds_resi_charactersitics_tags = table_resi.find_all(\"td\", class_=\"TableAttribute__StyledKey-xbfqge-1\")\n",
    "tds_resi_charactersitics_tags_e = [tds.get_text() for tds in tds_resi_charactersitics_tags]\n",
    "tds_resi_charactersitics.extend(tds_resi_charactersitics_tags_e)\n",
    "tds_resi_charactersitics"
   ]
  },
  {
   "cell_type": "raw",
   "metadata": {},
   "source": [
    "tds_resi_charactersitics_expl = []\n",
    "tds_resi_charactersitics_expl_tags = table_resi.find_all(\"td\", class_=False)\n",
    "tds_resi_charactersitics_expl_tags_e = [tds.get_text() for tds in tds_resi_charactersitics_expl_tags]\n",
    "tds_resi_charactersitics_expl.extend(tds_resi_charactersitics_expl_tags_e)\n",
    "tds_resi_charactersitics_expl"
   ]
  },
  {
   "cell_type": "raw",
   "metadata": {},
   "source": [
    "charactersitics = pd.DataFrame({\n",
    "    \"characteristic\": tds_resi_charactersitics,\n",
    "    \"explanation\": tds_resi_charactersitics_expl,\n",
    "    \"href\": url_resi,\n",
    "})\n",
    "charactersitics"
   ]
  },
  {
   "cell_type": "raw",
   "metadata": {},
   "source": [
    "# https://pandas.pydata.org/pandas-docs/stable/user_guide/reshaping.html\n",
    "charactersitics.pivot(index=\"href\", columns=\"characteristic\", values=\"explanation\")"
   ]
  },
  {
   "cell_type": "raw",
   "metadata": {},
   "source": [
    "charactersitics.transpose()"
   ]
  },
  {
   "cell_type": "raw",
   "metadata": {},
   "source": [
    "# CHARACTERISTIC END"
   ]
  },
  {
   "cell_type": "raw",
   "metadata": {},
   "source": [
    "# SKETCHKES AND PRICES"
   ]
  },
  {
   "cell_type": "raw",
   "metadata": {},
   "source": [
    "url_resi = \"https://korter.ro/arka-residence-ia-i\"\n",
    "page_resi = requests.get(url_resi)\n",
    "soup_resi = BeautifulSoup(page_resi.content, 'html.parser')\n",
    "\n",
    "sket_pr_resi_type = []\n",
    "sket_pr_resi_type_tags = soup_resi.find_all(class_=\"UnitTypeRow__StyledUnitType-wfbjku-1 bjEpwX\")\n",
    "sket_pr_resi_type_tags_e = [sprt.get_text() for sprt in sket_pr_resi_type_tags]\n",
    "sket_pr_resi_type.extend(sket_pr_resi_type_tags_e)\n",
    "sket_pr_resi_type\n",
    "\n",
    "sket_pr_resi_surface = []\n",
    "sket_pr_resi_surface_tags = soup_resi.find_all(class_=\"UnitTypeRow__StyledPriceArea-wfbjku-3 bJnUHx\")\n",
    "sket_pr_resi_surface_tags_e = [sprt.get_text(\"|\", strip=True) for sprt in sket_pr_resi_surface_tags]\n",
    "sket_pr_resi_surface.extend(sket_pr_resi_surface_tags_e)\n",
    "sket_pr_resi_surface"
   ]
  },
  {
   "cell_type": "raw",
   "metadata": {},
   "source": [
    "sket_pr_resi_type = []\n",
    "sket_pr_resi_type_tags = soup_resi.find_all(class_=\"UnitTypeRow__StyledUnitType-wfbjku-1 bjEpwX\")\n",
    "sket_pr_resi_type_tags_e = [sprt.get_text() for sprt in sket_pr_resi_type_tags]\n",
    "sket_pr_resi_type.extend(sket_pr_resi_type_tags_e)\n",
    "sket_pr_resi_type"
   ]
  },
  {
   "cell_type": "raw",
   "metadata": {},
   "source": [
    "sket_pr_resi_surface_df = pd.DataFrame({\n",
    "    \"unedited_column\": sket_pr_resi_surface,\n",
    "    \"type\": sket_pr_resi_type,\n",
    "    \"href\": url_resi,\n",
    "})\n",
    "sket_pr_resi_surface_df"
   ]
  },
  {
   "cell_type": "raw",
   "metadata": {},
   "source": [
    "print(sket_pr_resi_surface_df.unedited_column.apply(lambda x: pd.Series(str(x).split(\"de la\", 2))))"
   ]
  },
  {
   "cell_type": "raw",
   "metadata": {},
   "source": [
    "sket_pr_resi_surface_df[['surface','price_m2','total_price']] = sket_pr_resi_surface_df.unedited_column.apply( \n",
    "   lambda x: pd.Series(str(x).split(\"de la\", 2)))\n",
    "sket_pr_resi_surface_df"
   ]
  },
  {
   "cell_type": "raw",
   "metadata": {},
   "source": [
    "sket_pr_resi_surface_df.surface = sket_pr_resi_surface_df.surface.str.replace('|', '')\n",
    "sket_pr_resi_surface_df.surface = sket_pr_resi_surface_df.surface.str.replace('m2', '')\n",
    "sket_pr_resi_surface_df.price_m2 = sket_pr_resi_surface_df.price_m2.str.replace('|pentru m|2|', '')\n",
    "sket_pr_resi_surface_df.price_m2 = sket_pr_resi_surface_df.price_m2.str.replace('|', '')\n",
    "sket_pr_resi_surface_df = sket_pr_resi_surface_df.drop(['unedited_column'], axis=1)\n",
    "sket_pr_resi_surface_df"
   ]
  },
  {
   "cell_type": "raw",
   "metadata": {},
   "source": [
    "# STAGES"
   ]
  },
  {
   "cell_type": "raw",
   "metadata": {
    "jupyter": {
     "outputs_hidden": true
    }
   },
   "source": [
    "url_resi = \"https://korter.ro/evergreen-towers-ia-i\"\n",
    "page_resi = requests.get(url_resi)\n",
    "soup_resi = BeautifulSoup(page_resi.content, 'html.parser')\n",
    "stage_resi = soup_resi.find(class_=\"houses__StyledListWrapper-sc-8hboo4-0 gBLHQM\")\n",
    "print(stage_resi.prettify())"
   ]
  },
  {
   "cell_type": "raw",
   "metadata": {},
   "source": [
    "phases = []\n",
    "phases_tags = stage_resi.find_all('div', class_=\"HouseQueueCard__StyledName-sc-1bay3ay-2 daVYvY\")\n",
    "phases_tags_e = [pt.get_text() for pt in phases_tags]\n",
    "phases.extend(phases_tags_e)\n",
    "phases"
   ]
  },
  {
   "cell_type": "raw",
   "metadata": {},
   "source": [
    "blocks = []\n",
    "blocks_tags = stage_resi.find_all('div', class_=\"HouseQueueCard__StyledQueueHouses-sc-1bay3ay-3 ifOvBM\")\n",
    "blocks_tags_e = [pt.get_text() for pt in blocks_tags]\n",
    "blocks.extend(blocks_tags_e)\n",
    "blocks"
   ]
  },
  {
   "cell_type": "raw",
   "metadata": {},
   "source": [
    "stages = []\n",
    "stages_tags = stage_resi.find_all('div', class_=\"HouseQueueCard__StyledWrapper-sc-1bay3ay-0 fIuinW\")\n",
    "stages_tags_e = [st.get_text(\"|\", strip=True) for st in stages_tags]\n",
    "stages.extend(stages_tags_e)\n",
    "stages"
   ]
  },
  {
   "cell_type": "raw",
   "metadata": {},
   "source": [
    "stages_df = pd.DataFrame({\n",
    "    \"stage_column\": stages,\n",
    "    \"href\": url_resi,\n",
    "})\n",
    "stages_df"
   ]
  },
  {
   "cell_type": "raw",
   "metadata": {},
   "source": [
    "print(stages_df.stage_column.apply(lambda x: pd.Series(str(x).split(\"|\", 4))))"
   ]
  },
  {
   "cell_type": "raw",
   "metadata": {},
   "source": [
    "stages_df[['elem_1','elem_2','elem_3','elem_4','elem_5']] = stages_df.stage_column.apply( \n",
    "   lambda x: pd.Series(str(x).split(\"|\", 4)))\n",
    "stages_df"
   ]
  },
  {
   "cell_type": "raw",
   "metadata": {
    "jupyter": {
     "outputs_hidden": true
    }
   },
   "source": [
    "stages_df.elem_5 = stages_df.elem_5.str.replace('[|]', ' ')\n",
    "stages_df"
   ]
  },
  {
   "cell_type": "raw",
   "metadata": {},
   "source": [
    "# STAGES END"
   ]
  },
  {
   "cell_type": "raw",
   "metadata": {},
   "source": [
    "# SKETCHES ALL"
   ]
  },
  {
   "cell_type": "raw",
   "metadata": {},
   "source": [
    "url_resi = \"https://korter.ro/evergreen-towers-ia-i/schițele\"\n",
    "page_resi = requests.get(url_resi)\n",
    "soup_resi = BeautifulSoup(page_resi.content, 'html.parser')\n",
    "\n",
    "for tag in soup_resi.find_all(class_=\"LayoutCard__StyledWrapper-sc-1j6xc9t-1 kvPUf\"):\n",
    "    print (tag.get_text(\"|\", strip=True))\n",
    "    "
   ]
  },
  {
   "cell_type": "raw",
   "metadata": {},
   "source": [
    "url_resi = \"https://korter.ro/evergreen-towers-ia-i/schițele\"\n",
    "page_resi = requests.get(url_resi)\n",
    "sketches_resi = BeautifulSoup(page_resi.content, 'html.parser')\n",
    "\n",
    "sketches = []\n",
    "sketches_tags = sketches_resi.find_all(class_=\"LayoutCard__StyledWrapper-sc-1j6xc9t-1 kvPUf\")\n",
    "sketches_tags_e = [st.get_text(\"|\", strip=True) for st in sketches_tags]\n",
    "sketches.extend(sketches_tags_e)\n",
    "sketches"
   ]
  },
  {
   "cell_type": "raw",
   "metadata": {},
   "source": [
    "sketches_df = pd.DataFrame({\n",
    "    \"sketches_column\": sketches,\n",
    "    \"href\": url_resi,\n",
    "})\n",
    "sketches_df"
   ]
  },
  {
   "cell_type": "raw",
   "metadata": {},
   "source": [
    "sketches_df[['del1','price','del2','space']] = sketches_df.sketches_column.apply( \n",
    "   lambda x: pd.Series(str(x).split(\"|\", 3)))\n",
    "sketches_df"
   ]
  },
  {
   "cell_type": "raw",
   "metadata": {},
   "source": [
    "url_resi = \"https://korter.ro/evergreen-towers-ia-i/schițele\"\n",
    "page_resi = requests.get(url_resi)\n",
    "soup_resi = BeautifulSoup(page_resi.content, 'html.parser')\n",
    "for tag in soup_resi.find_all(class_=\"SecondaryTitle-sc-5neg6l-0 LayoutsByUnitType__StyledSecondaryTitle-sc-1la7dej-1 CwBpC\"):\n",
    "    print (tag.text)"
   ]
  },
  {
   "cell_type": "raw",
   "metadata": {},
   "source": [
    "url_resi = \"https://korter.ro/evergreen-towers-ia-i/schițele\"\n",
    "page_resi = requests.get(url_resi)\n",
    "soup_resi = BeautifulSoup(page_resi.content, 'html.parser')\n",
    "listing = soup_resi.find(class_=\"layoutListing__StyledContentWrapper-sc-1j10b4t-0 gzzsaq\")\n",
    "#print(listing.prettify())\"\n",
    "types = listing.find_all(class_=\"SecondaryTitle-sc-5neg6l-0 LayoutsByUnitType__StyledSecondaryTitle-sc-1la7dej-1 CwBpC\")\n",
    "\n",
    "garsoniera = types[0]\n",
    "print(garsoniera.prettify())\n",
    "print (garsoniera.text)\n",
    "\n",
    "expl = listing.find_all(class_=\"LayoutCard__StyledWrapper-sc-1j6xc9t-1 kvPUf\")\n",
    "print(\"***\")\n",
    "print(len(expl))\n",
    "print(\"***\")\n",
    "explanation = expl[0]\n",
    "print (explanation.text)\n"
   ]
  },
  {
   "cell_type": "raw",
   "metadata": {},
   "source": [
    "url_resi = \"https://korter.ro/evergreen-towers-ia-i/schițele\"\n",
    "page_resi = requests.get(url_resi)\n",
    "soup_resi = BeautifulSoup(page_resi.content, 'html.parser')\n",
    "listing = soup_resi.find(class_=\"layoutListing__StyledContentWrapper-sc-1j10b4t-0 gzzsaq\")\n",
    "#print(listing.prettify())\"\n",
    "types = listing.find_all(class_=\"SecondaryTitle-sc-5neg6l-0 LayoutsByUnitType__StyledSecondaryTitle-sc-1la7dej-1 CwBpC\")\n",
    "print(types[0].prettify())\n",
    "\n",
    "# garsoniera = types[0]\n",
    "# print(garsoniera.prettify())\n",
    "# print (garsoniera.text)\n",
    "\n",
    "# expl = listing.find_all(class_=\"LayoutCard__StyledWrapper-sc-1j6xc9t-1 kvPUf\")\n",
    "# print(\"***\")\n",
    "# print(len(expl))\n",
    "# print(\"***\")\n",
    "# explanation = expl[0]\n",
    "# print (explanation.text)\n",
    "\n",
    "# for i in range(1, len(expl)):\n",
    "#     print(expl[i].text)"
   ]
  },
  {
   "cell_type": "raw",
   "metadata": {},
   "source": [
    "# Export\n",
    "residential.to_excel(\"/Users/robert.radoslav/desktop/residential_\" + city + \".xlsx\", sheet_name=city)\n",
    "\n",
    "# Colab export alternative\n",
    "# from google.colab import files\n",
    "# residential.to_excel('residential.xlsx') \n",
    "# files.download('residential.xlsx')"
   ]
  },
  {
   "cell_type": "raw",
   "metadata": {},
   "source": [
    "# SAFEGUARD /// STARTS FROM HERE"
   ]
  },
  {
   "cell_type": "raw",
   "metadata": {},
   "source": [
    "x = datetime.datetime.now()\n",
    "\n",
    "# CHANGE\n",
    "# city = str(input(\"Type the name of the city: \"))\n",
    "# cities = [\"Bucuresti\", \"Cluj\", \"Timisoara\", \"Iasi\", \"Constanta\", \"Craiova\", \"Brașov\", \"Galați\", \"Ploiești\"]\n",
    "# cities = [\"Bucuresti\", \"Cluj\"]\n",
    "cities = [\"Bucuresti\", \"Cluj\", \"Timisoara\", \"Iasi\", \"Constanta\"]\n",
    "\n",
    "column_names = [\"name\", \"address\", \"developer\", \"city\", \"date\", \"href\", \"main_price_from\"]\n",
    "residential = pd.DataFrame(columns = column_names)\n",
    "\n",
    "for city in cities:\n",
    "    url = \"https://korter.ro/ansambluri-rezidentiale-in-\" + city\n",
    "    page = requests.get(url)\n",
    "    soup = BeautifulSoup(page.content, 'html.parser')\n",
    "    check = soup.find(class_=\"ListingHeader__StyledComment-sc-6vo33j-2\")\n",
    "    # print(check.prettify())\n",
    "    # [type(item) for item in list(check.children)]\n",
    "    number = list(check.children)[2]\n",
    "    number = int(number) \n",
    "    number = number / 20\n",
    "    number_pages = int(number) + 2\n",
    "    \n",
    "    # for pg in range(1, number):\n",
    "    for pg in range(1, number_pages):\n",
    "        page_num = str(pg)\n",
    "        url = \"https://korter.ro/ansambluri-rezidentiale-in-\" + city + \"?page=\" + page_num\n",
    "        # page = driver.get(url)\n",
    "        # soup = BeautifulSoup(driver.page_source, 'html.parser')\n",
    "        page = requests.get(url)\n",
    "        soup = BeautifulSoup(page.content, 'html.parser')\n",
    "        # print(soup.prettify())\n",
    "\n",
    "        buildinigs_stream = soup.find(class_=\"BuildingsStream__StyledCardsWrapper-sc-1umumy-1\")\n",
    "        \n",
    "        building_name = []\n",
    "        building_name_tags = buildinigs_stream.select(\".buildingCard__StyledWrapper-sc-1t8cw05-2 .buildingCard__StyledBuildingName-sc-1t8cw05-5\")\n",
    "        building_name_e = [bnt.get_text() for bnt in building_name_tags]\n",
    "        building_name.extend(building_name_e)\n",
    "\n",
    "        address = []\n",
    "        address_tags = buildinigs_stream.select(\".buildingCard__StyledWrapper-sc-1t8cw05-2 .buildingCard__StyledBuildingLocation-sc-1t8cw05-6\")\n",
    "        address_e = [at.get_text() for at in address_tags]\n",
    "        address.extend(address_e)\n",
    "    \n",
    "        price = []\n",
    "        price_tags = buildinigs_stream.select(\".buildingCard__StyledWrapper-sc-1t8cw05-2 .Price__StyledBasePrice-sc-1ayg5nr-2\")\n",
    "        price_e = [pt.get_text() for pt in price_tags]\n",
    "        price.extend(price_e)\n",
    "\n",
    "        developer = []\n",
    "        developer_tags = buildinigs_stream.select(\".buildingCard__StyledWrapper-sc-1t8cw05-2 .buildingCard__StyledDeveloperName-sc-1t8cw05-10\")\n",
    "        developer_e = [dt.get_text() for dt in developer_tags]\n",
    "        developer.extend(developer_e)\n",
    "\n",
    "        # website = []\n",
    "        # website_tags = buildinigs_stream.select(\".buildingCard__StyledWrapper-sc-1t8cw05-2 .buildingCard__StyledBuildingSiteBlock-sc-1t8cw05-12\")\n",
    "        # website_e = [wt.get_text() for wt in website_tags]\n",
    "        # website.extend(website_e)\n",
    "        \n",
    "        # buildinigs_stream_b = soup.find(class_=\"buildingCard__StyledWrapper-sc-1t8cw05-2 iPKkAv\")\n",
    "        href = []\n",
    "        href_tags = buildinigs_stream.find_all('a', class_=\"Link__StyledLink-sc-1qa6dyr-0 givVbJ buildingCard__StyledMainLink-sc-1t8cw05-0 fjVoPz\")\n",
    "        href_e = [ht.get('href') for ht in href_tags]\n",
    "        href.extend(href_e)   \n",
    "        \n",
    "        residential_city = pd.DataFrame({\n",
    "            \"name\": building_name,\n",
    "            \"address\": address,\n",
    "            \"developer\": developer,\n",
    "            \"city\": city,\n",
    "            \"date\": str(x.strftime(\"%x\")),\n",
    "            \"href\": href,\n",
    "            \"main_price_from\": price,\n",
    "        })\n",
    "\n",
    "        # residential_city['website'] = residential_city['website'].replace(\"pagina obiect\", np.nan)\n",
    "        residential = residential.append(residential_city, ignore_index = True)\n",
    "\n",
    "residential"
   ]
  },
  {
   "cell_type": "raw",
   "metadata": {},
   "source": [
    "# href2 is used in the blocks below as well\n",
    "href2 = residential[\"href\"].tolist()\n",
    "\n",
    "# To check\n",
    "# href2 = href2[12:30]\n",
    "\n",
    "column_names = [\"unedited\", \"type\", \"href\"]\n",
    "sketches_prices = pd.DataFrame(columns = column_names)\n",
    "\n",
    "for resi in href2:\n",
    "    url_resi = \"https://korter.ro\" + resi\n",
    "    page_resi = requests.get(url_resi)\n",
    "    soup_resi = BeautifulSoup(page_resi.content, 'html.parser')\n",
    "    \n",
    "    sket_pr_resi_type = []\n",
    "    sket_pr_resi_type_tags = soup_resi.find_all(class_=\"UnitTypeRow__StyledUnitType-wfbjku-1 bjEpwX\")\n",
    "    sket_pr_resi_type_tags_e = [sprt.get_text() for sprt in sket_pr_resi_type_tags]\n",
    "    sket_pr_resi_type.extend(sket_pr_resi_type_tags_e)\n",
    "    sket_pr_resi_type\n",
    "\n",
    "    sket_pr_resi_surface = []\n",
    "    sket_pr_resi_surface_tags = soup_resi.find_all(class_=\"UnitTypeRow__StyledPriceArea-wfbjku-3 bJnUHx\")\n",
    "    sket_pr_resi_surface_tags_e = [sprt.get_text(\"|\", strip=True) for sprt in sket_pr_resi_surface_tags]\n",
    "    sket_pr_resi_surface.extend(sket_pr_resi_surface_tags_e)\n",
    "    sket_pr_resi_surface\n",
    "    \n",
    "    sket_pr_resi_surface_df = pd.DataFrame({\n",
    "        \"unedited\": sket_pr_resi_surface,\n",
    "        \"type\": sket_pr_resi_type,\n",
    "        \"href\": url_resi,\n",
    "    })\n",
    "    \n",
    "    sketches_prices = sketches_prices.append(sket_pr_resi_surface_df, ignore_index = True)\n",
    "\n",
    "sketches_prices.unedited = sketches_prices.unedited.str.replace('|', '')\n",
    "sketches_prices.unedited = sketches_prices.unedited.str.replace('prețul se clarifică', 'de laprețul se clarifică')\n",
    "sketches_prices.unedited = sketches_prices.unedited.str.replace('m2', '', 1)\n",
    "sketches_prices[['area_from','price_m2_from','total_price_from']] = sketches_prices.unedited.apply( \n",
    "   lambda x: pd.Series(str(x).split(\"de la\", 2)))\n",
    "sketches_prices.price_m2_from = sketches_prices.price_m2_from.str.replace('pentru m2', '', 1)\n",
    "sketches_prices.href = sketches_prices.href.str.replace('https://korter.ro', '', 1)\n",
    "sketches_prices = sketches_prices.drop(['unedited'], axis=1)\n",
    "sketches_prices.rename(columns={'href':'href2'}, inplace=True)\n",
    "sketches_prices"
   ]
  },
  {
   "cell_type": "raw",
   "metadata": {},
   "source": [
    "column_names = [\"sketches_column\", \"href\"]\n",
    "sketches_all = pd.DataFrame(columns = column_names)\n",
    "\n",
    "for resi in href2:\n",
    "    url_resi = \"https://korter.ro\" + resi + \"/schițele\"\n",
    "    page_resi = requests.get(url_resi)\n",
    "    sketches_resi = BeautifulSoup(page_resi.content, 'html.parser')\n",
    "\n",
    "    sketches = []\n",
    "    sketches_tags = sketches_resi.find_all(class_=\"LayoutCard__StyledWrapper-sc-1j6xc9t-1 kvPUf\")\n",
    "    sketches_tags_e = [st.get_text(\"|\", strip=True) for st in sketches_tags]\n",
    "    sketches.extend(sketches_tags_e)\n",
    "    sketches\n",
    "    \n",
    "    sketches_df = pd.DataFrame({\n",
    "        \"sketches_column\": sketches,\n",
    "        \"href\": url_resi,\n",
    "    })\n",
    "    \n",
    "    sketches_all = sketches_all.append(sketches_df, ignore_index = True)\n",
    "    \n",
    "sketches_all[['del1','total_price','del2','total_space']] = sketches_all.sketches_column.apply(\n",
    "    lambda x: pd.Series(str(x).split(\"|\", 3)))\n",
    "sketches_all.total_space = sketches_all.total_space.str.replace('|', '')\n",
    "sketches_all.total_space = sketches_all.total_space.str.replace('m2', '')\n",
    "sketches_all = sketches_all.drop(['sketches_column', 'del1', 'del2'], axis=1)\n",
    "sketches_all.href = sketches_all.href.str.replace('https://korter.ro', '', 1)\n",
    "sketches_all.href = sketches_all.href.str.replace('/schițele', '', 1)\n",
    "sketches_all.rename(columns={'href':'href2'}, inplace=True)\n",
    "sketches_all"
   ]
  },
  {
   "cell_type": "raw",
   "metadata": {},
   "source": [
    "column_names = [\"characteristic\", \"explanation\", \"href2\"]\n",
    "charactersitics_all = pd.DataFrame(columns = column_names)\n",
    "\n",
    "for resi in href2:\n",
    "    url_resi = \"https://korter.ro\" + resi\n",
    "    page_resi = requests.get(url_resi)\n",
    "    soup_resi = BeautifulSoup(page_resi.content, 'html.parser')\n",
    "    table_resi = soup_resi.find(class_=\"PrimaryTableAttributesBlock__StyledAttributesTable-sc-1gdjixd-0 dRvDKU\")\n",
    "    web_resi = soup_resi.find(class_=\"Link__StyledLink-sc-1qa6dyr-0 fvupyZ\")\n",
    "    \n",
    "    tds_resi_charactersitics = []\n",
    "    tds_resi_charactersitics_tags = table_resi.find_all(\"td\", class_=\"TableAttribute__StyledKey-xbfqge-1\")\n",
    "    tds_resi_charactersitics_tags_e = [tds.get_text() for tds in tds_resi_charactersitics_tags]\n",
    "    tds_resi_charactersitics.extend(tds_resi_charactersitics_tags_e)\n",
    "    tds_resi_charactersitics\n",
    "    \n",
    "    tds_resi_charactersitics_expl = []\n",
    "    tds_resi_charactersitics_expl_tags = table_resi.find_all(\"td\", class_=False)\n",
    "    tds_resi_charactersitics_expl_tags_e = [tds.get_text() for tds in tds_resi_charactersitics_expl_tags]\n",
    "    tds_resi_charactersitics_expl.extend(tds_resi_charactersitics_expl_tags_e)\n",
    "    tds_resi_charactersitics_expl\n",
    "    \n",
    "    charactersitics = pd.DataFrame({\n",
    "        \"characteristic\": tds_resi_charactersitics,\n",
    "        \"explanation\": tds_resi_charactersitics_expl,\n",
    "        \"href2\": url_resi,\n",
    "    })\n",
    "    \n",
    "    charactersitics_all = charactersitics_all.append(charactersitics)\n",
    "\n",
    "charactersitics_all.href2 = charactersitics_all.href2.str.replace('https://korter.ro', '', 1)\n",
    "charactersitics_all"
   ]
  },
  {
   "cell_type": "raw",
   "metadata": {},
   "source": [
    "href2 = residential[\"href\"].tolist()\n",
    "\n",
    "# To check\n",
    "# href2 = href2[12:30]\n",
    "\n",
    "column_names = [\"website_link\", \"href2\"]\n",
    "website_all = pd.DataFrame(columns = column_names)\n",
    "\n",
    "for resi in href3:   \n",
    "    url_resi = \"https://korter.ro\" + resi\n",
    "    page_resi = requests.get(url_resi)\n",
    "    soup_resi = BeautifulSoup(page_resi.content, 'html.parser')\n",
    "    external_links_resi = soup_resi.find_all(class_=\"ExternalLinks__StyledWrapper-sc-6pqnoc-1 eSjnUu\")\n",
    "    \n",
    "    website_link = []\n",
    "    website_e = [elr.get_text(\"|\", strip=True) for elr in external_links_resi]\n",
    "    website_link.extend(website_e)\n",
    "\n",
    "    websites = pd.DataFrame({\n",
    "        \"website_link\": website_link,\n",
    "        \"href2\": url_resi,\n",
    "    })\n",
    "    \n",
    "    website_all = website_all.append(websites)\n",
    "\n",
    "website_all.href2 = website_all.href2.str.replace('https://korter.ro', '', 1)\n",
    "website_all[['del1','website','del2']] = website_all.website_link.apply(\n",
    "    lambda x: pd.Series(str(x).split(\"|\", 2)))\n",
    "website_all = website_all.drop(['website_link', 'del1', 'del2'], axis=1)\n",
    "website_all"
   ]
  },
  {
   "cell_type": "raw",
   "metadata": {},
   "source": [
    "# MERGING IT ALL"
   ]
  },
  {
   "cell_type": "raw",
   "metadata": {},
   "source": [
    "# https://pandas.pydata.org/pandas-docs/stable/user_guide/reshaping.html\n",
    "charactersitics_all = charactersitics_all.pivot(index=\"href2\", columns=\"characteristic\", values=\"explanation\")\n",
    "charactersitics_all.reset_index(inplace = True) \n",
    "\n",
    "# https://focaalvarez.medium.com/vlookup-and-index-match-equivalences-in-pandas-160ac2910399\n",
    "residential.rename(columns={'href':'href2'}, inplace=True)\n",
    "table_all_characteristics = residential.merge(charactersitics_all,how='left',on='href2')\n",
    "table_all_characteristics"
   ]
  },
  {
   "cell_type": "raw",
   "metadata": {},
   "source": [
    "sketches_prices_2 = sketches_prices.pivot(index=\"href2\", columns=\"type\", values=\"price_m2_from\")\n",
    "sketches_prices_2.reset_index(inplace = True)\n",
    "\n",
    "# sketches_prices_2 = sketches_prices.add_suffix('_price_m2_from')\n",
    "# col_dict = {'type_price_m2_from': 'type', 'href2_price_m2_from': 'href2'} ## key→old name, value→new name\n",
    "# sketches_prices_2.columns = [col_dict.get(x, x) for x in sketches_prices_2.columns]\n",
    "sketches_prices_2"
   ]
  },
  {
   "cell_type": "raw",
   "metadata": {},
   "source": [
    "table_all_char_sketpri = table_all_characteristics.merge(sketches_prices_2, how=\"left\", on=\"href2\")\n",
    "table_all_char_sketpri"
   ]
  },
  {
   "cell_type": "raw",
   "metadata": {},
   "source": [
    "# Use str.extract and pass a regex pattern to extract just the numeric parts\n",
    "# sketches_all_2.total_price = sketches_all_2.total_price.str.extract('(\\d+)', expand=False)\n",
    "# sketches_all_2.total_space = sketches_all_2.total_space.str.encode(\"ascii\", \"ignore\")\n",
    "# sketches_all_2.total_space = sketches_all_2.total_space.astype(int)\n",
    "\n",
    "sketches_all_2 = sketches_all.copy()\n",
    "sketches_all_2.total_price = sketches_all_2.total_price.str.replace('€', '')\n",
    "sketches_all_2.total_price = sketches_all_2.total_price.str.replace('[+TVA]', '')\n",
    "sketches_all_2.total_price = sketches_all_2.total_price.str.replace(r\"[a-zA-Z]\",'')\n",
    "sketches_all_2.total_price = sketches_all_2.total_price.str.replace(\"[ț ţ ă â]\", '')\n",
    "sketches_all_2.total_space = sketches_all_2.total_space.str.replace(r\"[a-zA-Z]\",'')\n",
    "sketches_all_2.total_space = sketches_all_2.total_space.str.replace(\"[ț ţ â ă]\", '')\n",
    "\n",
    "# https://stackoverflow.com/questions/15891038/change-column-type-in-pandas\n",
    "# df[\"a\"] = pd.to_numeric(df[\"a\"])\n",
    "sketches_all_2.total_space = pd.to_numeric(sketches_all_2.total_space)\n",
    "sketches_all_2.total_price = pd.to_numeric(sketches_all_2.total_price)\n",
    "sketches_all_2.dtypes\n",
    "\n",
    "sketches_all_2['mean_price'] = sketches_all_2['total_price'] / sketches_all_2['total_space']\n",
    "sketches_all_2\n",
    "\n",
    "sketches_all_3 = sketches_all_2.groupby('href2')['mean_price'].mean()\n",
    "sketches_all_3\n",
    "\n",
    "sketches_all_4 = pd.DataFrame(data=sketches_all_3)\n",
    "sketches_all_4"
   ]
  },
  {
   "cell_type": "raw",
   "metadata": {},
   "source": [
    "sketches_all_5 = sketches_all.copy()\n",
    "sketches_all_5.total_price = sketches_all_5.total_price.str.replace('€', '')\n",
    "sketches_all_5.total_price = sketches_all_5.total_price.str.replace('[+TVA]', '')\n",
    "sketches_all_5.total_price = sketches_all_5.total_price.str.replace(r\"[a-zA-Z]\",'')\n",
    "sketches_all_5.total_price = sketches_all_5.total_price.str.replace(\"[ț ţ ă â]\", '')\n",
    "sketches_all_5.total_space = sketches_all_5.total_space.str.replace(r\"[a-zA-Z]\",'')\n",
    "sketches_all_5.total_space = sketches_all_5.total_space.str.replace(\"[ț ţ â ă]\", '')\n",
    "\n",
    "sketches_all_5.total_space = pd.to_numeric(sketches_all_5.total_space)\n",
    "sketches_all_5.total_price = pd.to_numeric(sketches_all_5.total_price)\n",
    "sketches_all_5.dtypes\n",
    "\n",
    "sketches_all_6 = sketches_all_5.groupby('href2')['total_space'].sum()\n",
    "sketches_all_6\n",
    "\n",
    "sketches_all_7 = pd.DataFrame(data=sketches_all_6)\n",
    "sketches_all_7"
   ]
  },
  {
   "cell_type": "raw",
   "metadata": {},
   "source": [
    "table_all_char_sketpri_meanpr = table_all_char_sketpri.merge(sketches_all_4, how=\"left\", on=\"href2\")\n",
    "table_all_char_sketpri_meanpr_tspace = table_all_char_sketpri_meanpr.merge(sketches_all_7, how=\"left\", on=\"href2\")\n",
    "table_all_char_sketpri_meanpr_tspace"
   ]
  },
  {
   "cell_type": "raw",
   "metadata": {},
   "source": [
    "table_all_char_sketpri_meanpr_tspace_w = table_all_char_sketpri_meanpr_tspace.merge(website_all, how=\"left\", on=\"href2\")\n",
    "table_all_char_sketpri_meanpr_tspace_w"
   ]
  },
  {
   "cell_type": "raw",
   "metadata": {},
   "source": [
    "# Export\n",
    "table_all_char_sketpri_meanpr_tspace_w.to_excel(\"/Users/robert.radoslav/desktop/table_all_char_sketpri_meanpr_tspace_w.xlsx\", sheet_name=\"All cities\")\n",
    "\n",
    "# Colab export alternative\n",
    "# from google.colab import files\n",
    "# residential.to_excel('residential.xlsx') \n",
    "# files.download('residential.xlsx')"
   ]
  },
  {
   "cell_type": "raw",
   "metadata": {},
   "source": [
    "col_dict = {'name': 'Nume',\n",
    "            'address': 'Adresa',\n",
    "            'developer': 'Dezvoltator',\n",
    "            'city': 'Oras',\n",
    "            'date': 'Data',\n",
    "            'href2': 'Href',\n",
    "            'main_price_from': 'Pret minim',\n",
    "            'mean_price': 'Pret mediu',\n",
    "            'total_space': 'Spatiu total m2',\n",
    "            'website': 'Website'}   ## key→old name, value→new name\n",
    "\n",
    "table_all_char_sketpri_meanpr_tspace_w.columns = [col_dict.get(x, x) for x in table_all_char_sketpri_meanpr_tspace_w.columns]\n",
    "table_all_char_sketpri_meanpr_tspace_w"
   ]
  },
  {
   "cell_type": "raw",
   "metadata": {},
   "source": [
    "pd.options.display.float_format = '{:,.2f}'.format\n",
    "cols_to_order = ['Nume', 'Adresa', 'Dezvoltator', 'Oras', 'Website', 'Href', 'Pret minim', 'Pret mediu', 'Spatiu total m2']\n",
    "new_columns = cols_to_order + (table_all_char_sketpri_meanpr_tspace_w.columns.drop(cols_to_order).tolist())\n",
    "table_all_char_sketpri_meanpr_tspace_w = table_all_char_sketpri_meanpr_tspace_w[new_columns]\n",
    "table_all_char_sketpri_meanpr_tspace_w"
   ]
  },
  {
   "cell_type": "raw",
   "metadata": {},
   "source": [
    "# Export\n",
    "table_all_char_sketpri_meanpr.to_excel(\"/Users/robert.radoslav/desktop/residential_final.xlsx\", sheet_name=\"All cities\")\n",
    "\n",
    "# Colab export alternative\n",
    "# from google.colab import files\n",
    "# residential.to_excel('residential.xlsx') \n",
    "# files.download('residential.xlsx')"
   ]
  }
 ],
 "metadata": {
  "kernelspec": {
   "display_name": "Python 3",
   "language": "python",
   "name": "python3"
  },
  "language_info": {
   "codemirror_mode": {
    "name": "ipython",
    "version": 3
   },
   "file_extension": ".py",
   "mimetype": "text/x-python",
   "name": "python",
   "nbconvert_exporter": "python",
   "pygments_lexer": "ipython3",
   "version": "3.8.2"
  }
 },
 "nbformat": 4,
 "nbformat_minor": 4
}
